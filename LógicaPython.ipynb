{
  "nbformat": 4,
  "nbformat_minor": 0,
  "metadata": {
    "colab": {
      "name": "LógicaPython.ipynb",
      "provenance": [],
      "toc_visible": true,
      "authorship_tag": "ABX9TyOIIfykNke2b95c1KhZf9CJ",
      "include_colab_link": true
    },
    "kernelspec": {
      "name": "python3",
      "display_name": "Python 3"
    },
    "language_info": {
      "name": "python"
    }
  },
  "cells": [
    {
      "cell_type": "markdown",
      "metadata": {
        "id": "view-in-github",
        "colab_type": "text"
      },
      "source": [
        "<a href=\"https://colab.research.google.com/github/IgorBarrosIB/Python/blob/main/L%C3%B3gicaPython.ipynb\" target=\"_parent\"><img src=\"https://colab.research.google.com/assets/colab-badge.svg\" alt=\"Open In Colab\"/></a>"
      ]
    },
    {
      "cell_type": "markdown",
      "metadata": {
        "id": "kRUabPIY73iI"
      },
      "source": [
        "# *Lógica de programação com Python*"
      ]
    },
    {
      "cell_type": "code",
      "metadata": {
        "id": "t_ka3K0j5W7F"
      },
      "source": [
        "# Comentario"
      ],
      "execution_count": null,
      "outputs": []
    },
    {
      "cell_type": "code",
      "metadata": {
        "id": "zP_BCVizVPEY"
      },
      "source": [
        "nome = 'Igor Barros'"
      ],
      "execution_count": null,
      "outputs": []
    },
    {
      "cell_type": "code",
      "metadata": {
        "id": "kfpz9SkcVSZx"
      },
      "source": [
        "idade = 24"
      ],
      "execution_count": null,
      "outputs": []
    },
    {
      "cell_type": "markdown",
      "metadata": {
        "id": "-KmTFsKGYI8s"
      },
      "source": [
        "Concatenação"
      ]
    },
    {
      "cell_type": "code",
      "metadata": {
        "id": "chaG0V9dYOT6",
        "colab": {
          "base_uri": "https://localhost:8080/"
        },
        "outputId": "0d43c6f3-979b-419a-9d7b-3eede0365a34"
      },
      "source": [
        "print(f'O nome é {nome} e sua idade é {idade} anos')"
      ],
      "execution_count": null,
      "outputs": [
        {
          "output_type": "stream",
          "text": [
            "O nome é Igor Barros e sua idade é 24 anos\n"
          ],
          "name": "stdout"
        }
      ]
    },
    {
      "cell_type": "markdown",
      "metadata": {
        "id": "Ga_SVM1PW-XJ"
      },
      "source": [
        "Alguns exemplos de formatação de strings"
      ]
    },
    {
      "cell_type": "code",
      "metadata": {
        "id": "G_FirQdIVkE4",
        "colab": {
          "base_uri": "https://localhost:8080/",
          "height": 35
        },
        "outputId": "ec136861-70d7-4960-82b0-05f82c4432f6"
      },
      "source": [
        "'Nome: {} Idade: {}'.format(nome, idade)"
      ],
      "execution_count": null,
      "outputs": [
        {
          "output_type": "execute_result",
          "data": {
            "application/vnd.google.colaboratory.intrinsic+json": {
              "type": "string"
            },
            "text/plain": [
              "'Nome: Igor Barros Idade: 24'"
            ]
          },
          "metadata": {
            "tags": []
          },
          "execution_count": 4
        }
      ]
    },
    {
      "cell_type": "code",
      "metadata": {
        "id": "wiu-9nziW8W3",
        "colab": {
          "base_uri": "https://localhost:8080/",
          "height": 35
        },
        "outputId": "5bfe82ec-9717-4a58-c273-6337436d2442"
      },
      "source": [
        "'Nome: {nome} Idade: {idade}'.format(nome = nome, idade = idade)"
      ],
      "execution_count": null,
      "outputs": [
        {
          "output_type": "execute_result",
          "data": {
            "application/vnd.google.colaboratory.intrinsic+json": {
              "type": "string"
            },
            "text/plain": [
              "'Nome: Igor Barros Idade: 24'"
            ]
          },
          "metadata": {
            "tags": []
          },
          "execution_count": 5
        }
      ]
    },
    {
      "cell_type": "markdown",
      "metadata": {
        "id": "S4Fa8k2y7_wg"
      },
      "source": [
        "# Função"
      ]
    },
    {
      "cell_type": "markdown",
      "metadata": {
        "id": "nviZzmGNZMs_"
      },
      "source": [
        "Minha primeira função"
      ]
    },
    {
      "cell_type": "code",
      "metadata": {
        "id": "sPS37oIeZRhn"
      },
      "source": [
        "def saudacao():\n",
        "  nome = input('Qual o seu nome? ')\n",
        "  print(f'Olá {nome}')"
      ],
      "execution_count": null,
      "outputs": []
    },
    {
      "cell_type": "code",
      "metadata": {
        "id": "QSoZowknVvBe"
      },
      "source": [
        "saudacao()"
      ],
      "execution_count": null,
      "outputs": []
    },
    {
      "cell_type": "markdown",
      "metadata": {
        "id": "q6srjcsX1fSM"
      },
      "source": [
        "Função com Parametros"
      ]
    },
    {
      "cell_type": "code",
      "metadata": {
        "id": "kwt2aMsh1zXp"
      },
      "source": [
        "nome = 'Igor Barros'"
      ],
      "execution_count": null,
      "outputs": []
    },
    {
      "cell_type": "code",
      "metadata": {
        "id": "57fN308OaKGA"
      },
      "source": [
        "def saudacao_com_parametros(nome_da_pessoa):\n",
        "  print(f'Olá {nome_da_pessoa}')"
      ],
      "execution_count": null,
      "outputs": []
    },
    {
      "cell_type": "code",
      "metadata": {
        "colab": {
          "base_uri": "https://localhost:8080/"
        },
        "id": "__pJFtlh2hVJ",
        "outputId": "23e6f59e-e3d7-4794-e181-ac8f8d7905a8"
      },
      "source": [
        "saudacao_com_parametros('Anna')"
      ],
      "execution_count": null,
      "outputs": [
        {
          "output_type": "stream",
          "text": [
            "Olá Anna\n"
          ],
          "name": "stdout"
        }
      ]
    },
    {
      "cell_type": "markdown",
      "metadata": {
        "id": "2C9RNeR6s2J_"
      },
      "source": [
        "# Condicional"
      ]
    },
    {
      "cell_type": "code",
      "metadata": {
        "id": "qJuiiaALs8FD"
      },
      "source": [
        "idade = 24"
      ],
      "execution_count": null,
      "outputs": []
    },
    {
      "cell_type": "code",
      "metadata": {
        "id": "2f0-r-s5s_qe"
      },
      "source": [
        "def verifica_se_pode_dirigir(idade):\n",
        "  if idade >= 18:\n",
        "    print(\"Tem Permissão para dirigir\")\n",
        "  else:\n",
        "    print(\"Não permissão para dirigir\")"
      ],
      "execution_count": null,
      "outputs": []
    },
    {
      "cell_type": "code",
      "metadata": {
        "id": "ebPPDk6BtLU6"
      },
      "source": [
        "verifica_se_pode_dirigir(idade)"
      ],
      "execution_count": null,
      "outputs": []
    },
    {
      "cell_type": "code",
      "metadata": {
        "id": "WO3C7P3htpl9"
      },
      "source": [
        "def verifica_se_pode_dirigir_sem_parametros():\n",
        "  idade = int(input('Qual sua idade'))\n",
        "  if idade >= 18:\n",
        "    print(\"Tem Permissão para dirigir\")\n",
        "  else:\n",
        "    print(\"Não permissão para dirigir\")"
      ],
      "execution_count": null,
      "outputs": []
    },
    {
      "cell_type": "code",
      "metadata": {
        "id": "K5ma8HfnuWt0"
      },
      "source": [
        "verifica_se_pode_dirigir_sem_parametros()"
      ],
      "execution_count": null,
      "outputs": []
    },
    {
      "cell_type": "markdown",
      "metadata": {
        "id": "79CU1VQ50liB"
      },
      "source": [
        ""
      ]
    },
    {
      "cell_type": "code",
      "metadata": {
        "id": "Qf40zM6T0zU-"
      },
      "source": [
        "def velocidade():\n",
        "  metros = int(input('Quantos metros você pecorreu?'))\n",
        "  tempo = int(input('Quanto tempo você levou?'))\n",
        "  resultado = metros / tempo\n",
        "  print(f'A velocidade média e {resultado}')"
      ],
      "execution_count": null,
      "outputs": []
    },
    {
      "cell_type": "code",
      "metadata": {
        "colab": {
          "base_uri": "https://localhost:8080/"
        },
        "id": "ec0bXlKH1gQP",
        "outputId": "6626eba4-6cdd-4b9e-ab5b-8eb0b9b1fb75"
      },
      "source": [
        "velocidade()"
      ],
      "execution_count": null,
      "outputs": [
        {
          "output_type": "stream",
          "text": [
            "Quantos metros você pecorreu?100\n",
            "Quanto tempo você levou?20\n",
            "A velocidade média e 5.0\n"
          ],
          "name": "stdout"
        }
      ]
    },
    {
      "cell_type": "markdown",
      "metadata": {
        "id": "gSeodUVa4PXF"
      },
      "source": [
        "# Lista, repetições e tipo boliano"
      ]
    },
    {
      "cell_type": "code",
      "metadata": {
        "id": "rNh6MbZ04ZGT"
      },
      "source": [
        "nome = 'Igor Barros'"
      ],
      "execution_count": null,
      "outputs": []
    },
    {
      "cell_type": "code",
      "metadata": {
        "id": "A1jSlzQD4lUO"
      },
      "source": [
        "type(nome)"
      ],
      "execution_count": null,
      "outputs": []
    },
    {
      "cell_type": "code",
      "metadata": {
        "id": "5frRNO3e4nH2"
      },
      "source": [
        "idades = [18, 20, 24, 25]"
      ],
      "execution_count": null,
      "outputs": []
    },
    {
      "cell_type": "code",
      "metadata": {
        "id": "gp4_UfyJ45iO"
      },
      "source": [
        "type(idades)"
      ],
      "execution_count": null,
      "outputs": []
    },
    {
      "cell_type": "code",
      "metadata": {
        "id": "hsiJ67kS40Hz"
      },
      "source": [
        "print(f'{idades[0:3]}')"
      ],
      "execution_count": null,
      "outputs": []
    },
    {
      "cell_type": "code",
      "metadata": {
        "id": "qaP9g_YOZSA0",
        "colab": {
          "base_uri": "https://localhost:8080/"
        },
        "outputId": "8a10864e-33bf-424d-dfd5-6de26be229b6"
      },
      "source": [
        "lista = ['Guilherme', 28, True, '18']\n",
        "\n",
        "for elemento in lista: \n",
        "  print(f'O elemento {elemento} é do tipo: ', type(elemento))"
      ],
      "execution_count": null,
      "outputs": [
        {
          "output_type": "stream",
          "text": [
            "O elemento Guilherme é do tipo:  <class 'str'>\n",
            "O elemento 28 é do tipo:  <class 'int'>\n",
            "O elemento True é do tipo:  <class 'bool'>\n",
            "O elemento 18 é do tipo:  <class 'str'>\n"
          ],
          "name": "stdout"
        }
      ]
    },
    {
      "cell_type": "markdown",
      "metadata": {
        "id": "_-TdO-C7ZYFv"
      },
      "source": [
        "# Laços e loops"
      ]
    },
    {
      "cell_type": "code",
      "metadata": {
        "id": "virhivORaKz6"
      },
      "source": [
        "idades = [18, 20, 24, 25]"
      ],
      "execution_count": null,
      "outputs": []
    },
    {
      "cell_type": "code",
      "metadata": {
        "id": "dhKorKi0Zfyh"
      },
      "source": [
        "def verifica_se_pode_dirigir(idade):\n",
        "  if idade >= 18:\n",
        "    print(f'{idade} anos de idade, tem permissão para dirigir')\n",
        "  else:\n",
        "    print(f'{idade} anos de idade, não permissão para dirigir')\n",
        "for idade in idades:\n",
        "  verifica_se_pode_dirigir(idade)"
      ],
      "execution_count": null,
      "outputs": []
    },
    {
      "cell_type": "code",
      "metadata": {
        "id": "4l7H07sPe9cT"
      },
      "source": [
        "def verifica_se_pode_dirigir(idades):\n",
        "  for idade in idades:\n",
        "    if idade >= 18:\n",
        "      print(f'{idade} anos de idade, TEM permissão para dirigir')\n",
        "    else:\n",
        "      print(f'{idade} anos de idade, NÃO TEM permissão para dirigir')\n",
        "verifica_se_pode_dirigir(idades)"
      ],
      "execution_count": null,
      "outputs": []
    },
    {
      "cell_type": "markdown",
      "metadata": {
        "id": "4bnZOGMegCY1"
      },
      "source": [
        "# Boleano"
      ]
    },
    {
      "cell_type": "code",
      "metadata": {
        "colab": {
          "base_uri": "https://localhost:8080/"
        },
        "id": "yK_hzWPFgFhy",
        "outputId": "0874bb30-ff0a-443e-c81b-e2ffd618a67c"
      },
      "source": [
        "idade = 18\n",
        "idade >= 18"
      ],
      "execution_count": null,
      "outputs": [
        {
          "output_type": "execute_result",
          "data": {
            "text/plain": [
              "True"
            ]
          },
          "metadata": {
            "tags": []
          },
          "execution_count": 19
        }
      ]
    },
    {
      "cell_type": "code",
      "metadata": {
        "colab": {
          "base_uri": "https://localhost:8080/"
        },
        "id": "mjy-euXMgJUX",
        "outputId": "dc933a6f-1fe3-4611-ac6e-406eec792a0a"
      },
      "source": [
        "idade = 15\n",
        "idade >= 18"
      ],
      "execution_count": null,
      "outputs": [
        {
          "output_type": "execute_result",
          "data": {
            "text/plain": [
              "False"
            ]
          },
          "metadata": {
            "tags": []
          },
          "execution_count": 20
        }
      ]
    },
    {
      "cell_type": "code",
      "metadata": {
        "id": "ZHJyN0dRgLls"
      },
      "source": [
        "permissoes = []\n",
        "idades = [20, 14, 40]\n",
        "\n",
        "def verifica_se_pode_dirigir(idades, permissoes):\n",
        "  for idade in idades:\n",
        "    if idade >= 18:\n",
        "      permissoes.append(True)\n",
        "    else:\n",
        "      permissoes.append(False)\n",
        "\n",
        "verifica_se_pode_dirigir(idades, permissoes)"
      ],
      "execution_count": null,
      "outputs": []
    },
    {
      "cell_type": "code",
      "metadata": {
        "id": "1sG0SHcmgZnH"
      },
      "source": [
        "permissoes\n"
      ],
      "execution_count": null,
      "outputs": []
    },
    {
      "cell_type": "code",
      "metadata": {
        "id": "AGXzNqZOhJ6-"
      },
      "source": [
        "for permissao in permissoes:\n",
        "  if permissao == True:\n",
        "    print('Tem permissão para dirigir')\n",
        "  else:\n",
        "    print('Não tem permissão para dirigir')"
      ],
      "execution_count": null,
      "outputs": []
    },
    {
      "cell_type": "markdown",
      "metadata": {
        "id": "PfAfPdnTjT-M"
      },
      "source": [
        "# Importes"
      ]
    },
    {
      "cell_type": "code",
      "metadata": {
        "id": "Guxl12qAjXHd"
      },
      "source": [
        "from random import randrange, seed"
      ],
      "execution_count": null,
      "outputs": []
    },
    {
      "cell_type": "code",
      "metadata": {
        "id": "K-vKDAU8Xn8T"
      },
      "source": [
        "seed(10)"
      ],
      "execution_count": null,
      "outputs": []
    },
    {
      "cell_type": "code",
      "metadata": {
        "colab": {
          "base_uri": "https://localhost:8080/"
        },
        "id": "H3n0f3XhWK0p",
        "outputId": "801c852a-0588-4454-8ede-febc915abc2d"
      },
      "source": [
        "randrange(0, 9)"
      ],
      "execution_count": null,
      "outputs": [
        {
          "output_type": "execute_result",
          "data": {
            "text/plain": [
              "0"
            ]
          },
          "metadata": {
            "tags": []
          },
          "execution_count": 18
        }
      ]
    },
    {
      "cell_type": "code",
      "metadata": {
        "colab": {
          "base_uri": "https://localhost:8080/"
        },
        "id": "Qda2-JWwWbQR",
        "outputId": "127790a2-9671-4658-be28-c93743fc1644"
      },
      "source": [
        "notas_matematicas = []\n",
        "for notas in range(8):\n",
        "  notas_matematicas.append(randrange(0,11))\n",
        "notas_matematicas"
      ],
      "execution_count": null,
      "outputs": [
        {
          "output_type": "execute_result",
          "data": {
            "text/plain": [
              "[5, 10, 0, 9, 10, 2, 1, 8]"
            ]
          },
          "metadata": {
            "tags": []
          },
          "execution_count": 9
        }
      ]
    },
    {
      "cell_type": "code",
      "metadata": {
        "id": "vR4UaPl1XDHX"
      },
      "source": [
        "len(notas_matematicas)"
      ],
      "execution_count": null,
      "outputs": []
    },
    {
      "cell_type": "markdown",
      "metadata": {
        "id": "VBpwTqyEapBf"
      },
      "source": [
        "# Matplotlib\n"
      ]
    },
    {
      "cell_type": "code",
      "metadata": {
        "id": "AAiPBz-AdmFs"
      },
      "source": [
        "from random import randrange"
      ],
      "execution_count": null,
      "outputs": []
    },
    {
      "cell_type": "code",
      "metadata": {
        "id": "_1JUt43Bau7g"
      },
      "source": [
        "import matplotlib.pyplot as plt"
      ],
      "execution_count": null,
      "outputs": []
    },
    {
      "cell_type": "code",
      "metadata": {
        "colab": {
          "base_uri": "https://localhost:8080/"
        },
        "id": "ePqIIvitdtEv",
        "outputId": "0100fdbb-fd57-4065-9e38-1eb675a6b0e9"
      },
      "source": [
        "notas_matematicas = []\n",
        "for notas in range(8):\n",
        "  notas_matematicas.append(randrange(0,11))\n",
        "notas_matematicas"
      ],
      "execution_count": null,
      "outputs": [
        {
          "output_type": "execute_result",
          "data": {
            "text/plain": [
              "[2, 10, 0, 5, 9, 2, 7, 3]"
            ]
          },
          "metadata": {
            "tags": []
          },
          "execution_count": 3
        }
      ]
    },
    {
      "cell_type": "code",
      "metadata": {
        "colab": {
          "base_uri": "https://localhost:8080/",
          "height": 295
        },
        "id": "QqaWuE76a1wj",
        "outputId": "f8de1cbd-7935-4ef7-9cdd-c71f7d71920b"
      },
      "source": [
        "x = list(range(1, 9))\n",
        "y = notas_matematicas\n",
        "plt.plot(x, y, marker='o')\n",
        "plt.title('Notas de matemática')\n",
        "plt.xlabel('Provas')\n",
        "plt.ylabel('Notas')\n",
        "plt.show()"
      ],
      "execution_count": null,
      "outputs": [
        {
          "output_type": "display_data",
          "data": {
            "image/png": "[encoded data removed]",
            "text/plain": [
              "<Figure size 432x288 with 1 Axes>"
            ]
          },
          "metadata": {
            "tags": [],
            "needs_background": "light"
          }
        }
      ]
    },
    {
      "cell_type": "markdown",
      "metadata": {
        "id": "qCxLifEwfCeE"
      },
      "source": [
        "Exemplo:\n",
        "Para comparar o desempenho escolar de um determinado aluno, a escola decidiu criar um gráfico para cada matéria, como ilustra o código abaixo:\n",
        "\n"
      ]
    },
    {
      "cell_type": "code",
      "metadata": {
        "id": "aVEunvWmdL-A"
      },
      "source": [
        "import matplotlib.pyplot as plt\n",
        "\n",
        "notas_matematica = ['Matemática',8,7,6,6,7,7,8,10]\n",
        "notas_portugues = ['Português',9,9,9,8,5,6,8,5]\n",
        "notas_geografia = ['Geografia',10,10,6,7,7,7,8,7]\n",
        "\n",
        "notas = [notas_matematica, notas_portugues, notas_geografia]"
      ],
      "execution_count": null,
      "outputs": []
    },
    {
      "cell_type": "code",
      "metadata": {
        "id": "iRYhNPj4fERy",
        "colab": {
          "base_uri": "https://localhost:8080/",
          "height": 851
        },
        "outputId": "a1682dc5-c1ba-48bc-a9ef-33a701e7fc51"
      },
      "source": [
        "for nota in notas:\n",
        "  x = list(range(1, 9))\n",
        "  y = nota[1:]\n",
        "  plt.plot(x, y, marker='o')\n",
        "  plt.title(nota[0])\n",
        "  plt.xlabel('Provas')\n",
        "  plt.ylabel('Notas')\n",
        "  plt.show()\n"
      ],
      "execution_count": null,
      "outputs": [
        {
          "output_type": "display_data",
          "data": {
            "image/png": "[encoded data removed]",
            "text/plain": [
              "<Figure size 432x288 with 1 Axes>"
            ]
          },
          "metadata": {
            "tags": [],
            "needs_background": "light"
          }
        },
        {
          "output_type": "display_data",
          "data": {
            "image/png": "[encoded data removed]",
            "text/plain": [
              "<Figure size 432x288 with 1 Axes>"
            ]
          },
          "metadata": {
            "tags": [],
            "needs_background": "light"
          }
        },
        {
          "output_type": "display_data",
          "data": {
            "image/png": "[encoded data removed]",
            "text/plain": [
              "<Figure size 432x288 with 1 Axes>"
            ]
          },
          "metadata": {
            "tags": [],
            "needs_background": "light"
          }
        }
      ]
    },
    {
      "cell_type": "code",
      "metadata": {
        "id": "8wMHa0JwV-kx"
      },
      "source": [
        ""
      ],
      "execution_count": null,
      "outputs": []
    }
  ]
}